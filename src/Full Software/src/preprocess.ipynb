{
 "cells": [
  {
   "cell_type": "code",
   "execution_count": 2,
   "metadata": {},
   "outputs": [],
   "source": [
    "import numpy as np\n",
    "import pandas as pd\n",
    "import os"
   ]
  },
  {
   "cell_type": "code",
   "execution_count": 14,
   "metadata": {},
   "outputs": [],
   "source": [
    "def merge(datasets):\n",
    "    new_datasets = []\n",
    "    i = 1\n",
    "    for data in datasets:\n",
    "        df = pd.read_csv('data/' + data, low_memory=False)\n",
    "        print(\"dataset\", i, \"read\")\n",
    "        data = df[['Issue Date', 'Violation Precinct', 'Meter Number']]\n",
    "        final_df = data[~data['Meter Number'].isnull()]\n",
    "        new_datasets.append(final_df)\n",
    "        print(\"dataset\", i, \"appended\")\n",
    "        i += 1\n",
    "        \n",
    "    return_df = new_datasets[0]\n",
    "    for data in new_datasets[1:]:\n",
    "#         temp_df = pd.read_csv('data/' + data)\n",
    "        return_df = pd.concat([return_df, data])\n",
    "\n",
    "#     df.head()\n",
    "\n",
    "    return(return_df)"
   ]
  },
  {
   "cell_type": "code",
   "execution_count": 15,
   "metadata": {},
   "outputs": [
    {
     "name": "stdout",
     "output_type": "stream",
     "text": [
      "dataset 0 read\n",
      "dataset 0 appended\n",
      "dataset 1 read\n",
      "dataset 1 appended\n",
      "dataset 2 read\n",
      "dataset 2 appended\n",
      "dataset 3 read\n",
      "dataset 3 appended\n"
     ]
    },
    {
     "data": {
      "text/html": [
       "<div>\n",
       "<style scoped>\n",
       "    .dataframe tbody tr th:only-of-type {\n",
       "        vertical-align: middle;\n",
       "    }\n",
       "\n",
       "    .dataframe tbody tr th {\n",
       "        vertical-align: top;\n",
       "    }\n",
       "\n",
       "    .dataframe thead th {\n",
       "        text-align: right;\n",
       "    }\n",
       "</style>\n",
       "<table border=\"1\" class=\"dataframe\">\n",
       "  <thead>\n",
       "    <tr style=\"text-align: right;\">\n",
       "      <th></th>\n",
       "      <th>Issue Date</th>\n",
       "      <th>Violation Precinct</th>\n",
       "      <th>Meter Number</th>\n",
       "    </tr>\n",
       "  </thead>\n",
       "  <tbody>\n",
       "    <tr>\n",
       "      <th>0</th>\n",
       "      <td>08/04/2013</td>\n",
       "      <td>33.0</td>\n",
       "      <td>-</td>\n",
       "    </tr>\n",
       "    <tr>\n",
       "      <th>1</th>\n",
       "      <td>08/04/2013</td>\n",
       "      <td>33.0</td>\n",
       "      <td>-</td>\n",
       "    </tr>\n",
       "    <tr>\n",
       "      <th>2</th>\n",
       "      <td>08/05/2013</td>\n",
       "      <td>33.0</td>\n",
       "      <td>-</td>\n",
       "    </tr>\n",
       "    <tr>\n",
       "      <th>3</th>\n",
       "      <td>08/05/2013</td>\n",
       "      <td>33.0</td>\n",
       "      <td>-</td>\n",
       "    </tr>\n",
       "    <tr>\n",
       "      <th>4</th>\n",
       "      <td>08/08/2013</td>\n",
       "      <td>33.0</td>\n",
       "      <td>-</td>\n",
       "    </tr>\n",
       "  </tbody>\n",
       "</table>\n",
       "</div>"
      ],
      "text/plain": [
       "   Issue Date  Violation Precinct Meter Number\n",
       "0  08/04/2013                33.0            -\n",
       "1  08/04/2013                33.0            -\n",
       "2  08/05/2013                33.0            -\n",
       "3  08/05/2013                33.0            -\n",
       "4  08/08/2013                33.0            -"
      ]
     },
     "execution_count": 15,
     "metadata": {},
     "output_type": "execute_result"
    }
   ],
   "source": [
    "datasets = os.listdir('data')\n",
    "df = merge(datasets)\n",
    "df.head()"
   ]
  },
  {
   "cell_type": "code",
   "execution_count": 16,
   "metadata": {},
   "outputs": [],
   "source": [
    "df.to_csv(\"test.csv\")"
   ]
  },
  {
   "cell_type": "code",
   "execution_count": 17,
   "metadata": {},
   "outputs": [
    {
     "data": {
      "text/html": [
       "<div>\n",
       "<style scoped>\n",
       "    .dataframe tbody tr th:only-of-type {\n",
       "        vertical-align: middle;\n",
       "    }\n",
       "\n",
       "    .dataframe tbody tr th {\n",
       "        vertical-align: top;\n",
       "    }\n",
       "\n",
       "    .dataframe thead th {\n",
       "        text-align: right;\n",
       "    }\n",
       "</style>\n",
       "<table border=\"1\" class=\"dataframe\">\n",
       "  <thead>\n",
       "    <tr style=\"text-align: right;\">\n",
       "      <th></th>\n",
       "      <th>Violation Precinct</th>\n",
       "      <th>Issue Date</th>\n",
       "      <th>count</th>\n",
       "    </tr>\n",
       "  </thead>\n",
       "  <tbody>\n",
       "    <tr>\n",
       "      <th>0</th>\n",
       "      <td>0.0</td>\n",
       "      <td>2000-01-08</td>\n",
       "      <td>1</td>\n",
       "    </tr>\n",
       "    <tr>\n",
       "      <th>1</th>\n",
       "      <td>0.0</td>\n",
       "      <td>2000-01-15</td>\n",
       "      <td>1</td>\n",
       "    </tr>\n",
       "    <tr>\n",
       "      <th>2</th>\n",
       "      <td>0.0</td>\n",
       "      <td>2000-02-02</td>\n",
       "      <td>1</td>\n",
       "    </tr>\n",
       "    <tr>\n",
       "      <th>3</th>\n",
       "      <td>0.0</td>\n",
       "      <td>2000-02-25</td>\n",
       "      <td>1</td>\n",
       "    </tr>\n",
       "    <tr>\n",
       "      <th>4</th>\n",
       "      <td>0.0</td>\n",
       "      <td>2000-03-10</td>\n",
       "      <td>1</td>\n",
       "    </tr>\n",
       "  </tbody>\n",
       "</table>\n",
       "</div>"
      ],
      "text/plain": [
       "   Violation Precinct Issue Date  count\n",
       "0                 0.0 2000-01-08      1\n",
       "1                 0.0 2000-01-15      1\n",
       "2                 0.0 2000-02-02      1\n",
       "3                 0.0 2000-02-25      1\n",
       "4                 0.0 2000-03-10      1"
      ]
     },
     "execution_count": 17,
     "metadata": {},
     "output_type": "execute_result"
    }
   ],
   "source": [
    "df[\"Issue Date\"] = pd.to_datetime(df[\"Issue Date\"])\n",
    "grouped_df = df.groupby([\"Violation Precinct\", \"Issue Date\"]).size().reset_index(name=\"count\")\n",
    "grouped_df.head()"
   ]
  },
  {
   "cell_type": "code",
   "execution_count": 18,
   "metadata": {},
   "outputs": [],
   "source": [
    "grouped_df[\"day\"] = grouped_df[\"Issue Date\"].dt.day\n",
    "grouped_df[\"month\"] = grouped_df[\"Issue Date\"].dt.month\n",
    "grouped_df[\"year\"] = grouped_df[\"Issue Date\"].dt.year\n",
    "grouped_df[\"dayofweek\"] = grouped_df[\"Issue Date\"].dt.dayofweek"
   ]
  },
  {
   "cell_type": "code",
   "execution_count": 24,
   "metadata": {},
   "outputs": [],
   "source": [
    "grouped_df = grouped_df[(grouped_df['year'] > 2012)]\n",
    "grouped_df['Violation Precinct'] = grouped_df['Violation Precinct'].astype(int)\n",
    "grouped_df = grouped_df[['Violation Precinct', 'Issue Date', 'count', 'day', 'month', 'year', 'dayofweek']]\n"
   ]
  },
  {
   "cell_type": "code",
   "execution_count": 27,
   "metadata": {},
   "outputs": [],
   "source": [
    "grouped_df.to_csv(\"final_dataset.csv\", index=False)"
   ]
  }
 ],
 "metadata": {
  "kernelspec": {
   "display_name": "Python 3 (ipykernel)",
   "language": "python",
   "name": "python3"
  },
  "language_info": {
   "codemirror_mode": {
    "name": "ipython",
    "version": 3
   },
   "file_extension": ".py",
   "mimetype": "text/x-python",
   "name": "python",
   "nbconvert_exporter": "python",
   "pygments_lexer": "ipython3",
   "version": "3.9.12"
  }
 },
 "nbformat": 4,
 "nbformat_minor": 2
}
