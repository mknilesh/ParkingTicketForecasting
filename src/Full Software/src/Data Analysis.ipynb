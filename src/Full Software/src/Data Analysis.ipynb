{
 "cells": [
  {
   "cell_type": "code",
   "execution_count": 3,
   "id": "aa9fd1c6",
   "metadata": {},
   "outputs": [],
   "source": [
    "import pandas as pd\n",
    "import numpy as np"
   ]
  },
  {
   "cell_type": "code",
   "execution_count": 16,
   "id": "34c0480b",
   "metadata": {},
   "outputs": [
    {
     "name": "stderr",
     "output_type": "stream",
     "text": [
      "C:\\Users\\sraja\\AppData\\Local\\Temp\\ipykernel_5576\\4017653490.py:1: DtypeWarning: Columns (18,38) have mixed types. Specify dtype option on import or set low_memory=False.\n",
      "  df = pd.read_csv(\"Parking_Violations_Issued_-_Fiscal_Year_2017.csv\")\n"
     ]
    }
   ],
   "source": [
    "df = pd.read_csv(\"Parking_Violations_Issued_-_Fiscal_Year_2017.csv\")"
   ]
  },
  {
   "cell_type": "code",
   "execution_count": 31,
   "id": "3560f6e8",
   "metadata": {},
   "outputs": [],
   "source": [
    "new_df = df"
   ]
  },
  {
   "cell_type": "code",
   "execution_count": 32,
   "id": "15819b86",
   "metadata": {},
   "outputs": [],
   "source": [
    "new_df['Issue Date']= pd.to_datetime(new_df['Issue Date'])"
   ]
  },
  {
   "cell_type": "code",
   "execution_count": 33,
   "id": "46b8e768",
   "metadata": {},
   "outputs": [
    {
     "data": {
      "text/html": [
       "<div>\n",
       "<style scoped>\n",
       "    .dataframe tbody tr th:only-of-type {\n",
       "        vertical-align: middle;\n",
       "    }\n",
       "\n",
       "    .dataframe tbody tr th {\n",
       "        vertical-align: top;\n",
       "    }\n",
       "\n",
       "    .dataframe thead th {\n",
       "        text-align: right;\n",
       "    }\n",
       "</style>\n",
       "<table border=\"1\" class=\"dataframe\">\n",
       "  <thead>\n",
       "    <tr style=\"text-align: right;\">\n",
       "      <th></th>\n",
       "      <th>Summons Number</th>\n",
       "      <th>Plate ID</th>\n",
       "      <th>Registration State</th>\n",
       "      <th>Plate Type</th>\n",
       "      <th>Issue Date</th>\n",
       "      <th>Violation Code</th>\n",
       "      <th>Vehicle Body Type</th>\n",
       "      <th>Vehicle Make</th>\n",
       "      <th>Issuing Agency</th>\n",
       "      <th>Street Code1</th>\n",
       "      <th>...</th>\n",
       "      <th>Vehicle Year</th>\n",
       "      <th>Meter Number</th>\n",
       "      <th>Feet From Curb</th>\n",
       "      <th>Violation Post Code</th>\n",
       "      <th>Violation Description</th>\n",
       "      <th>No Standing or Stopping Violation</th>\n",
       "      <th>Hydrant Violation</th>\n",
       "      <th>Double Parking Violation</th>\n",
       "      <th>year</th>\n",
       "      <th>month</th>\n",
       "    </tr>\n",
       "  </thead>\n",
       "  <tbody>\n",
       "    <tr>\n",
       "      <th>0</th>\n",
       "      <td>5092469481</td>\n",
       "      <td>GZH7067</td>\n",
       "      <td>NY</td>\n",
       "      <td>PAS</td>\n",
       "      <td>2016-07-10</td>\n",
       "      <td>7</td>\n",
       "      <td>SUBN</td>\n",
       "      <td>TOYOT</td>\n",
       "      <td>V</td>\n",
       "      <td>0</td>\n",
       "      <td>...</td>\n",
       "      <td>2001</td>\n",
       "      <td>NaN</td>\n",
       "      <td>0</td>\n",
       "      <td>NaN</td>\n",
       "      <td>FAILURE TO STOP AT RED LIGHT</td>\n",
       "      <td>NaN</td>\n",
       "      <td>NaN</td>\n",
       "      <td>NaN</td>\n",
       "      <td>2016</td>\n",
       "      <td>7</td>\n",
       "    </tr>\n",
       "    <tr>\n",
       "      <th>1</th>\n",
       "      <td>5092451658</td>\n",
       "      <td>GZH7067</td>\n",
       "      <td>NY</td>\n",
       "      <td>PAS</td>\n",
       "      <td>2016-07-08</td>\n",
       "      <td>7</td>\n",
       "      <td>SUBN</td>\n",
       "      <td>TOYOT</td>\n",
       "      <td>V</td>\n",
       "      <td>0</td>\n",
       "      <td>...</td>\n",
       "      <td>2001</td>\n",
       "      <td>NaN</td>\n",
       "      <td>0</td>\n",
       "      <td>NaN</td>\n",
       "      <td>FAILURE TO STOP AT RED LIGHT</td>\n",
       "      <td>NaN</td>\n",
       "      <td>NaN</td>\n",
       "      <td>NaN</td>\n",
       "      <td>2016</td>\n",
       "      <td>7</td>\n",
       "    </tr>\n",
       "    <tr>\n",
       "      <th>2</th>\n",
       "      <td>4006265037</td>\n",
       "      <td>FZX9232</td>\n",
       "      <td>NY</td>\n",
       "      <td>PAS</td>\n",
       "      <td>2016-08-23</td>\n",
       "      <td>5</td>\n",
       "      <td>SUBN</td>\n",
       "      <td>FORD</td>\n",
       "      <td>V</td>\n",
       "      <td>0</td>\n",
       "      <td>...</td>\n",
       "      <td>2004</td>\n",
       "      <td>NaN</td>\n",
       "      <td>0</td>\n",
       "      <td>NaN</td>\n",
       "      <td>BUS LANE VIOLATION</td>\n",
       "      <td>NaN</td>\n",
       "      <td>NaN</td>\n",
       "      <td>NaN</td>\n",
       "      <td>2016</td>\n",
       "      <td>8</td>\n",
       "    </tr>\n",
       "    <tr>\n",
       "      <th>3</th>\n",
       "      <td>8478629828</td>\n",
       "      <td>66623ME</td>\n",
       "      <td>NY</td>\n",
       "      <td>COM</td>\n",
       "      <td>2017-06-14</td>\n",
       "      <td>47</td>\n",
       "      <td>REFG</td>\n",
       "      <td>MITSU</td>\n",
       "      <td>T</td>\n",
       "      <td>10610</td>\n",
       "      <td>...</td>\n",
       "      <td>2007</td>\n",
       "      <td>NaN</td>\n",
       "      <td>0</td>\n",
       "      <td>04</td>\n",
       "      <td>47-Double PKG-Midtown</td>\n",
       "      <td>NaN</td>\n",
       "      <td>NaN</td>\n",
       "      <td>NaN</td>\n",
       "      <td>2017</td>\n",
       "      <td>6</td>\n",
       "    </tr>\n",
       "    <tr>\n",
       "      <th>4</th>\n",
       "      <td>7868300310</td>\n",
       "      <td>37033JV</td>\n",
       "      <td>NY</td>\n",
       "      <td>COM</td>\n",
       "      <td>2016-11-21</td>\n",
       "      <td>69</td>\n",
       "      <td>DELV</td>\n",
       "      <td>INTER</td>\n",
       "      <td>T</td>\n",
       "      <td>10510</td>\n",
       "      <td>...</td>\n",
       "      <td>2007</td>\n",
       "      <td>NaN</td>\n",
       "      <td>0</td>\n",
       "      <td>31 6</td>\n",
       "      <td>69-Failure to Disp Muni Recpt</td>\n",
       "      <td>NaN</td>\n",
       "      <td>NaN</td>\n",
       "      <td>NaN</td>\n",
       "      <td>2016</td>\n",
       "      <td>11</td>\n",
       "    </tr>\n",
       "  </tbody>\n",
       "</table>\n",
       "<p>5 rows × 45 columns</p>\n",
       "</div>"
      ],
      "text/plain": [
       "   Summons Number Plate ID Registration State Plate Type Issue Date  \\\n",
       "0      5092469481  GZH7067                 NY        PAS 2016-07-10   \n",
       "1      5092451658  GZH7067                 NY        PAS 2016-07-08   \n",
       "2      4006265037  FZX9232                 NY        PAS 2016-08-23   \n",
       "3      8478629828  66623ME                 NY        COM 2017-06-14   \n",
       "4      7868300310  37033JV                 NY        COM 2016-11-21   \n",
       "\n",
       "   Violation Code Vehicle Body Type Vehicle Make Issuing Agency  Street Code1  \\\n",
       "0               7              SUBN        TOYOT              V             0   \n",
       "1               7              SUBN        TOYOT              V             0   \n",
       "2               5              SUBN         FORD              V             0   \n",
       "3              47              REFG        MITSU              T         10610   \n",
       "4              69              DELV        INTER              T         10510   \n",
       "\n",
       "   ...  Vehicle Year  Meter Number  Feet From Curb  Violation Post Code  \\\n",
       "0  ...          2001           NaN               0                  NaN   \n",
       "1  ...          2001           NaN               0                  NaN   \n",
       "2  ...          2004           NaN               0                  NaN   \n",
       "3  ...          2007           NaN               0                   04   \n",
       "4  ...          2007           NaN               0                 31 6   \n",
       "\n",
       "           Violation Description  No Standing or Stopping Violation  \\\n",
       "0   FAILURE TO STOP AT RED LIGHT                                NaN   \n",
       "1   FAILURE TO STOP AT RED LIGHT                                NaN   \n",
       "2             BUS LANE VIOLATION                                NaN   \n",
       "3          47-Double PKG-Midtown                                NaN   \n",
       "4  69-Failure to Disp Muni Recpt                                NaN   \n",
       "\n",
       "   Hydrant Violation Double Parking Violation  year month  \n",
       "0                NaN                      NaN  2016     7  \n",
       "1                NaN                      NaN  2016     7  \n",
       "2                NaN                      NaN  2016     8  \n",
       "3                NaN                      NaN  2017     6  \n",
       "4                NaN                      NaN  2016    11  \n",
       "\n",
       "[5 rows x 45 columns]"
      ]
     },
     "execution_count": 33,
     "metadata": {},
     "output_type": "execute_result"
    }
   ],
   "source": [
    "new_df['year'] = pd.DatetimeIndex(new_df['Issue Date']).year\n",
    "new_df['month'] = pd.DatetimeIndex(new_df['Issue Date']).month\n",
    "new_df.head()"
   ]
  },
  {
   "cell_type": "code",
   "execution_count": 34,
   "id": "2205cb72",
   "metadata": {},
   "outputs": [],
   "source": [
    "df2 = new_df.groupby(['month'])['month'].count()"
   ]
  },
  {
   "cell_type": "code",
   "execution_count": 38,
   "id": "d6fa6113",
   "metadata": {},
   "outputs": [
    {
     "data": {
      "text/plain": [
       "<AxesSubplot:xlabel='month'>"
      ]
     },
     "execution_count": 38,
     "metadata": {},
     "output_type": "execute_result"
    },
    {
     "data": {
      "image/png": "[encoded data removed]",
      "text/plain": [
       "<Figure size 432x288 with 1 Axes>"
      ]
     },
     "metadata": {
      "needs_background": "light"
     },
     "output_type": "display_data"
    }
   ],
   "source": [
    "df2.plot.bar()"
   ]
  },
  {
   "cell_type": "code",
   "execution_count": 47,
   "id": "485978cf",
   "metadata": {},
   "outputs": [],
   "source": [
    "df3 = new_df.groupby(['Violation Code'])['Violation Code'].count()"
   ]
  },
  {
   "cell_type": "code",
   "execution_count": 52,
   "id": "2555b579",
   "metadata": {},
   "outputs": [
    {
     "data": {
      "text/plain": [
       "Violation Code\n",
       "21    1528588\n",
       "36    1400614\n",
       "38    1062304\n",
       "14     893498\n",
       "20     618593\n",
       "Name: Violation Code, dtype: int64"
      ]
     },
     "execution_count": 52,
     "metadata": {},
     "output_type": "execute_result"
    }
   ],
   "source": [
    "df3 = df3.sort_values(ascending=False)\n",
    "df3 = df3.iloc[0:30]\n",
    "df3.head()"
   ]
  },
  {
   "cell_type": "code",
   "execution_count": 53,
   "id": "2d14ea73",
   "metadata": {},
   "outputs": [
    {
     "data": {
      "text/plain": [
       "<AxesSubplot:xlabel='Violation Code'>"
      ]
     },
     "execution_count": 53,
     "metadata": {},
     "output_type": "execute_result"
    },
    {
     "data": {
      "image/png": "[encoded data removed]",
      "text/plain": [
       "<Figure size 432x288 with 1 Axes>"
      ]
     },
     "metadata": {
      "needs_background": "light"
     },
     "output_type": "display_data"
    }
   ],
   "source": [
    "df3.plot.bar()"
   ]
  },
  {
   "cell_type": "code",
   "execution_count": 60,
   "id": "1ba74d60",
   "metadata": {},
   "outputs": [
    {
     "data": {
      "text/plain": [
       "Violation County\n",
       "NY    3433026\n",
       "K     2218843\n",
       "Q     1838985\n",
       "BX    1362463\n",
       "BK     880657\n",
       "Name: Violation County, dtype: int64"
      ]
     },
     "execution_count": 60,
     "metadata": {},
     "output_type": "execute_result"
    }
   ],
   "source": [
    "df4 = new_df.groupby(['Violation County'])['Violation County'].count()\n",
    "df4 = df4.sort_values(ascending=False)\n",
    "df4 = df4.iloc[0:30]\n",
    "df4.head()"
   ]
  },
  {
   "cell_type": "code",
   "execution_count": 64,
   "id": "da22c23c",
   "metadata": {},
   "outputs": [
    {
     "data": {
      "text/plain": [
       "<AxesSubplot:xlabel='Violation County'>"
      ]
     },
     "execution_count": 64,
     "metadata": {},
     "output_type": "execute_result"
    },
    {
     "data": {
      "image/png": "[encoded data removed]",
      "text/plain": [
       "<Figure size 432x288 with 1 Axes>"
      ]
     },
     "metadata": {
      "needs_background": "light"
     },
     "output_type": "display_data"
    }
   ],
   "source": [
    "df4.plot.bar()"
   ]
  }
 ],
 "metadata": {
  "kernelspec": {
   "display_name": "Python 3 (ipykernel)",
   "language": "python",
   "name": "python3"
  },
  "language_info": {
   "codemirror_mode": {
    "name": "ipython",
    "version": 3
   },
   "file_extension": ".py",
   "mimetype": "text/x-python",
   "name": "python",
   "nbconvert_exporter": "python",
   "pygments_lexer": "ipython3",
   "version": "3.9.12"
  }
 },
 "nbformat": 4,
 "nbformat_minor": 5
}
