{
 "cells": [
  {
   "cell_type": "code",
   "execution_count": 5,
   "metadata": {},
   "outputs": [],
   "source": [
    "import pandas as pd\n",
    "import numpy as np\n",
    "import json\n",
    "import dateutil.parser"
   ]
  },
  {
   "cell_type": "code",
   "execution_count": 6,
   "metadata": {},
   "outputs": [],
   "source": [
    "\n",
    "df = pd.read_csv(\"final_dataset.csv\")\n",
    "df = df.loc[df['Violation Precinct'] < 124]\n",
    "df['Date'] = pd.to_datetime(df['Issue Date'])\n",
    "df = df.loc[df[\"Date\"].dt.year < 2017]\n",
    "df = df.loc[df[\"Date\"].dt.year >= 2014]\n",
    "    \n",
    "violation_precincts = df[\"Violation Precinct\"].unique()\n",
    "\n",
    "dataset_dict = {}\n",
    "\n",
    "for index, row in df.iterrows():\n",
    "    if row[\"Violation Precinct\"] not in dataset_dict:\n",
    "        dataset_dict[row[\"Violation Precinct\"]] = ([row[\"Issue Date\"]], [row[\"count\"]])\n",
    "    else:\n",
    "        tup = dataset_dict[row[\"Violation Precinct\"]]\n",
    "        date = tup[0]\n",
    "        date.append(row[\"Issue Date\"])\n",
    "        count = tup[1]\n",
    "        count.append(row[\"count\"])\n",
    "        dataset_dict[row[\"Violation Precinct\"]] = (date, count)"
   ]
  },
  {
   "cell_type": "code",
   "execution_count": 7,
   "metadata": {},
   "outputs": [],
   "source": [
    "df = pd.read_csv(\"final_dataset.csv\")\n",
    "df = df.loc[df['Violation Precinct'] < 124]\n",
    "df['Date'] = pd.to_datetime(df['Issue Date'])\n",
    "df = df.loc[df[\"Date\"] < dateutil.parser.parse(\"2016-03-01\")]\n",
    "df = df.loc[df[\"Date\"].dt.year >= 2014]\n",
    "    \n",
    "violation_precincts = df[\"Violation Precinct\"].unique()\n",
    "\n",
    "dataset_dict = {}\n",
    "\n",
    "for index, row in df.iterrows():\n",
    "    if row[\"Violation Precinct\"] not in dataset_dict:\n",
    "        dataset_dict[row[\"Violation Precinct\"]] = ([row[\"Issue Date\"]], [row[\"count\"]])\n",
    "    else:\n",
    "        tup = dataset_dict[row[\"Violation Precinct\"]]\n",
    "        date = tup[0]\n",
    "        date.append(row[\"Issue Date\"])\n",
    "        count = tup[1]\n",
    "        count.append(row[\"count\"])\n",
    "        dataset_dict[row[\"Violation Precinct\"]] = (date, count)"
   ]
  },
  {
   "cell_type": "code",
   "execution_count": 8,
   "metadata": {},
   "outputs": [
    {
     "name": "stdout",
     "output_type": "stream",
     "text": [
      "124\n"
     ]
    }
   ],
   "source": [
    "print(len(dataset_dict))\n",
    "with open(\"sample.json\", \"w\") as outfile:\n",
    "    json.dump(dataset_dict, outfile)"
   ]
  }
 ],
 "metadata": {
  "kernelspec": {
   "display_name": "Python 3",
   "language": "python",
   "name": "python3"
  },
  "language_info": {
   "codemirror_mode": {
    "name": "ipython",
    "version": 3
   },
   "file_extension": ".py",
   "mimetype": "text/x-python",
   "name": "python",
   "nbconvert_exporter": "python",
   "pygments_lexer": "ipython3",
   "version": "3.7.9"
  },
  "orig_nbformat": 4
 },
 "nbformat": 4,
 "nbformat_minor": 2
}
